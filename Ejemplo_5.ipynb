{
 "cells": [
  {
   "cell_type": "markdown",
   "metadata": {},
   "source": [
    "## Ejemplo 4\n",
    "Muestre ahora por el método de Newton-Raphson que $f(x) = x^3 + 4x^2 − 10 = 0$ tiene una raíz en [1,2], determine una aproximación para la raíz que sea precisa por lo menos dentro de $10^{–4}$."
   ]
  },
  {
   "cell_type": "code",
   "execution_count": 58,
   "metadata": {},
   "outputs": [],
   "source": [
    "# Importar Librerias\n",
    "import numpy as np\n",
    "import matplotlib.pyplot as plt"
   ]
  },
  {
   "cell_type": "markdown",
   "metadata": {},
   "source": [
    "Realicemos el gráfico de la función en el intervalo dado para asegurarnos de que tiene una raiz en el intervalo indicado"
   ]
  },
  {
   "cell_type": "code",
   "execution_count": 59,
   "metadata": {},
   "outputs": [
    {
     "data": {
      "image/png": "[encoded data removed]",
      "text/plain": [
       "<Figure size 432x288 with 1 Axes>"
      ]
     },
     "metadata": {
      "needs_background": "light"
     },
     "output_type": "display_data"
    }
   ],
   "source": [
    "x=np.arange(1.0,2.0,0.1)\n",
    "f=x**3 + 4*x**2 - 10\n",
    "\n",
    "plt.ion()\n",
    "plt.plot(x,f)\n",
    "plt.grid()\n",
    "plt.show()"
   ]
  },
  {
   "cell_type": "markdown",
   "metadata": {},
   "source": [
    "Despues usamos el método de iteración de punto fijo para hallar el valor de la raiz con el error solicitado. "
   ]
  },
  {
   "cell_type": "code",
   "execution_count": 60,
   "metadata": {},
   "outputs": [
    {
     "name": "stdout",
     "output_type": "stream",
     "text": [
      "1.4545454545454546 1.5401953418482357\n",
      "1.3689004010695187 0.06071968863994215\n",
      "1.365236600202116 0.00010877061042435798\n",
      "1.3652300134353668 3.512390378546115e-10\n"
     ]
    }
   ],
   "source": [
    "N = 100; eps = 1.e-4; #Defino max. Numero. iteraciones y error\n",
    "maxval = 10000.0; # Defino valor para divergencia\n",
    "x=1;\n",
    "while (N>0):\n",
    "    fx=x**3+4*x**2-10\n",
    "    dfx=3*x**2+8*x\n",
    "    xn = x-fx/dfx  #Función de Newton\n",
    "    fxn=xn**3+4*xn**2-10;\n",
    "    if abs(fxn)<eps:\n",
    "        x=xn;\n",
    "        #iter=100-N;\n",
    "        break\n",
    "    N = N - 1\n",
    "    x = xn\n",
    "    print(x,fxn)"
   ]
  }
 ],
 "metadata": {
  "kernelspec": {
   "display_name": "Python 3",
   "language": "python",
   "name": "python3"
  },
  "language_info": {
   "codemirror_mode": {
    "name": "ipython",
    "version": 3
   },
   "file_extension": ".py",
   "mimetype": "text/x-python",
   "name": "python",
   "nbconvert_exporter": "python",
   "pygments_lexer": "ipython3",
   "version": "3.7.4"
  }
 },
 "nbformat": 4,
 "nbformat_minor": 2
}
