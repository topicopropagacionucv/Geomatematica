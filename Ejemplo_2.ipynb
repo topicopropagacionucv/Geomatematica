{
 "cells": [
  {
   "attachments": {},
   "cell_type": "markdown",
   "metadata": {},
   "source": [
    "## Ejemplo 2\n",
    "Aplique el método de bisección y determine el intervalo donde se encuentra para $p_5$ para:\n",
    "$$\n",
    "f(x) = \\sqrt(x) - cos(x) \\  en \\  [0,1]\n",
    "$$"
   ]
  },
  {
   "cell_type": "code",
   "execution_count": 41,
   "metadata": {},
   "outputs": [],
   "source": [
    "# Importar Librerias\n",
    "import numpy as np\n",
    "import matplotlib.pyplot as plt"
   ]
  },
  {
   "cell_type": "markdown",
   "metadata": {},
   "source": [
    "Lo primero que debemos comprobar es que hay un cambio de signo en el intervalo dado, es decir, $f(a)f(b)<0$"
   ]
  },
  {
   "cell_type": "code",
   "execution_count": 42,
   "metadata": {},
   "outputs": [
    {
     "name": "stdout",
     "output_type": "stream",
     "text": [
      "-0.45969769413186023\n"
     ]
    }
   ],
   "source": [
    "a= 0\n",
    "b= 1\n",
    "fa = np.sqrt(a) - np.cos(a)\n",
    "fb = np.sqrt(b) - np.cos(b)\n",
    "\n",
    "print(fa*fb)"
   ]
  },
  {
   "cell_type": "markdown",
   "metadata": {},
   "source": [
    "Despues de comprobar que se cumple la condición obligatoria para aplicar el metodo de la bisección para encontrar el cero de la función en el intervalo dado"
   ]
  },
  {
   "cell_type": "code",
   "execution_count": 43,
   "metadata": {},
   "outputs": [
    {
     "name": "stdout",
     "output_type": "stream",
     "text": [
      "0.65625 0.017806727623803975\n",
      "0.625 0.65625\n"
     ]
    }
   ],
   "source": [
    "N = 5 # Numero de iteraciones que para este ejemplo son 5\n",
    "\n",
    "for k in range(0,N):\n",
    "    fa=np.sqrt(a)-np.cos(a) \n",
    "    p=a+(b-a)/2\n",
    "    fp=np.sqrt(p)-np.cos(p)\n",
    "\n",
    "    if fa*fp>0:\n",
    "        a=p;\n",
    "    else:\n",
    "        b=p\n",
    "\n",
    "print(p,fp)\n",
    "print(a,b)"
   ]
  }
 ],
 "metadata": {
  "kernelspec": {
   "display_name": "Python 3",
   "language": "python",
   "name": "python3"
  },
  "language_info": {
   "codemirror_mode": {
    "name": "ipython",
    "version": 3
   },
   "file_extension": ".py",
   "mimetype": "text/x-python",
   "name": "python",
   "nbconvert_exporter": "python",
   "pygments_lexer": "ipython3",
   "version": "3.7.4"
  }
 },
 "nbformat": 4,
 "nbformat_minor": 2
}
